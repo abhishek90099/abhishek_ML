{
 "cells": [
  {
   "cell_type": "code",
   "execution_count": 1,
   "metadata": {},
   "outputs": [
    {
     "name": "stdout",
     "output_type": "stream",
     "text": [
      "Number of vowels are: 3\n",
      "number of consonents 5\n"
     ]
    }
   ],
   "source": [
    "# get input string from the user\n",
    "string=input(\"Enter string:\")\n",
    "# initialize variables to count vowels and consonants\n",
    "vowels=0\n",
    "vowel=\"aeiouAEIOU\"\n",
    "#loop through each character in the input string\n",
    "for i in string:\n",
    "# check if the character is a vowel    \n",
    "      if i in vowel:\n",
    "            vowels=vowels+1\n",
    "#calculate the numbers of consonants by subtracting vowels from the total length of the string            \n",
    "consonents=len(string)-vowels\n",
    "# display the count of the vowels and consonants\n",
    "print(f\"Number of vowels are: {vowels}\")\n",
    "print(f\"number of consonents {consonents}\")"
   ]
  },
  {
   "cell_type": "code",
   "execution_count": 3,
   "metadata": {},
   "outputs": [
    {
     "name": "stdout",
     "output_type": "stream",
     "text": [
      "Matrix product AB:\n",
      "[11, 7, 13]\n",
      "[8, 10, 16]\n",
      "[15, 9, 17]\n"
     ]
    }
   ],
   "source": [
    "# function to perform matrix multiplication\n",
    "def multiply(A,B,ROW_A,COL_A,ROW_B,COL_B):\n",
    "    if COL_A!=ROW_B:\n",
    "        print(\"multiplication not possible\")\n",
    "        return None\n",
    "    else:\n",
    "#initialize the result matrix C with zero\n",
    "        C=[[0 for _ in range(COL_B)]for _ in range(ROW_A)]\n",
    "#Nested loops to perform matrix myltiplication\n",
    "        for i in range(ROW_A):\n",
    "            for j in range(COL_B):\n",
    "                for k in range(COL_A):\n",
    "                    C[i][j] += A[i][k] * B[k][j]\n",
    "\n",
    "    return C\n",
    "\n",
    "#for the matrix A\n",
    "ROW_A=int(input(\"enter the number of rows of A\"))\n",
    "COL_A=int(input(\"enter the number of cols of A\"))\n",
    "A=[[int(input(f\"enter the element of A{i}{j}\"))for j in range(COL_A)]for i in range(ROW_A)]\n",
    "\n",
    "#for the matrix B\n",
    "ROW_B=int(input(\"enter the number of rows of B\"))\n",
    "COL_B=int(input(\"enter the number of cols of B\"))\n",
    "B=[[int(input(f\"enter the element of B{i},{j}\"))for j in range(COL_B)]for i in range(ROW_B)]\n",
    "\n",
    "C=multiply(A,B,ROW_A,COL_A,ROW_B,COL_B)\n",
    "print(\"Matrix product AB:\")\n",
    "for row in C:\n",
    "    print(row)"
   ]
  },
  {
   "cell_type": "code",
   "execution_count": 4,
   "metadata": {},
   "outputs": [
    {
     "name": "stdout",
     "output_type": "stream",
     "text": [
      "enter the values inside the list : \n",
      "[1, 2, 3, 2, 3]\n",
      "enter the values inside the list : \n",
      "[4, 3, 2]\n",
      "the similiar elements are [2, 3, 2, 3]\n"
     ]
    }
   ],
   "source": [
    "#create an empty list 'list1' to store values entered by the user\n",
    "list1  =[]\n",
    "# get the size of the list from the user\n",
    "size = int(input(\"Enter the size of the list  :\"))\n",
    "\n",
    "print(\"enter the values inside the list : \")\n",
    "#loop to input values for 'list1'\n",
    "for i in range(0,size):\n",
    "    values = int(input())\n",
    "    list1.append(values)\n",
    "#display the contents of 'list1'\n",
    "print(list1)\n",
    "#create another empty list 'list2' to store values entered by the user\n",
    "list2  =[]\n",
    "size2 = int(input(\"Enter the size of the list  :\"))\n",
    "3\n",
    "print(\"enter the values inside the list : \")\n",
    "\n",
    "#loop to input values for 'list2'\n",
    "for i in range(0,size2):\n",
    "    values = int(input())\n",
    "    list2.append(values)\n",
    "\n",
    "print(list2)\n",
    "#create an empty list 'similar_elements' to store common elements\n",
    "similar_elements = []\n",
    "\n",
    "#nested loops to find common elements between 'list1' and 'list2'\n",
    "for a in list1:\n",
    "    for b in list2:\n",
    "        if a == b:\n",
    "            similar_elements.append(a)\n",
    "\n",
    "#display the common elements found\n",
    "print(f\"the similiar elements are {similar_elements}\")"
   ]
  },
  {
   "cell_type": "code",
   "execution_count": null,
   "metadata": {},
   "outputs": [
    {
     "name": "stdout",
     "output_type": "stream",
     "text": [
      "\n",
      " Transposed matrix is :\n",
      "[7, 9]\n",
      "[8, 10]\n"
     ]
    }
   ],
   "source": [
    "#function to calculate the transpose of a matrix\n",
    "def calculate_transpose_of_matrix(matrix):\n",
    "#initialize a result matrix with dimensions swapped     \n",
    "    result_matrix = [[0 for _ in range(len(matrix))] for _ in range(len(matrix[0]))]\n",
    "# nested loops to iterate through each elements of the original matrix and assign to the transposed matrix    \n",
    "    for i in range(len(matrix)):\n",
    "        for j in range(len(matrix[0])):\n",
    "            result_matrix[j][i] = matrix[i][j]\n",
    "    return result_matrix\n",
    "# EXamples matrix\n",
    "Matrix = [[7,8],[9,10]]\n",
    "# calculate the transposed matrix using the defined function\n",
    "transposed_matrix = calculate_transpose_of_matrix(Matrix)\n",
    "# display the original and transposed matrices\n",
    "print(\"\\n Transposed matrix is :\")\n",
    "for row in transposed_matrix:\n",
    "    print(row)"
   ]
  }
 ],
 "metadata": {
  "kernelspec": {
   "display_name": "Python 3",
   "language": "python",
   "name": "python3"
  },
  "language_info": {
   "codemirror_mode": {
    "name": "ipython",
    "version": 3
   },
   "file_extension": ".py",
   "mimetype": "text/x-python",
   "name": "python",
   "nbconvert_exporter": "python",
   "pygments_lexer": "ipython3",
   "version": "3.11.5"
  }
 },
 "nbformat": 4,
 "nbformat_minor": 2
}
